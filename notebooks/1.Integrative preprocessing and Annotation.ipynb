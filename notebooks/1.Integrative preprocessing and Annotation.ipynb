{
 "cells": [
  {
   "cell_type": "code",
   "execution_count": null,
   "metadata": {},
   "outputs": [],
   "source": [
    "#START HERE#\n",
    "#Open Libraries - Run every time\n",
    "library(mnormt)\n",
    "library(Seurat)\n",
    "library(ggplot2)\n",
    "library(dplyr)\n",
    "library(cowplot)\n",
    "library(reticulate)\n",
    "set.seed(42)"
   ]
  },
  {
   "cell_type": "markdown",
   "metadata": {},
   "source": [
    "# Loading scRNA-seq quantification results"
   ]
  },
  {
   "cell_type": "markdown",
   "metadata": {
    "ExecuteTime": {
     "end_time": "2020-10-17T09:01:37.726737Z",
     "start_time": "2020-10-17T09:01:37.548Z"
    }
   },
   "source": [
    "## Specify the folder containing the sparse matrix files"
   ]
  },
  {
   "cell_type": "code",
   "execution_count": null,
   "metadata": {},
   "outputs": [],
   "source": [
    "wti.data   <- Read10X(data.dir =\"/Users/yzhou14/Data_local/20191010_scRNAseq_analysis/Raw_Data/WTI/\")\n",
    "wtc.data   <- Read10X(data.dir =\"/Users/yzhou14/Data_local/20191010_scRNAseq_analysis/Raw_Data/WTC/\")\n",
    "c3koi.data <- Read10X(data.dir =\"/Users/yzhou14/Data_local/20191010_scRNAseq_analysis/Raw_Data/C3KOI/\")\n",
    "c3koc.data <- Read10X(data.dir =\"/Users/yzhou14/Data_local/20191010_scRNAseq_analysis/Raw_Data/C3KOC/\")"
   ]
  },
  {
   "cell_type": "markdown",
   "metadata": {},
   "source": [
    "## Create Seurat object and drop low quality cell"
   ]
  },
  {
   "cell_type": "code",
   "execution_count": null,
   "metadata": {},
   "outputs": [],
   "source": [
    "#Set up first object\n",
    "wti <- CreateSeuratObject(counts = wti.data, project = \"WILD_TYPE\", min.cells = 3)\n",
    "wti[[\"percent.mt\"]] <- PercentageFeatureSet(wti, pattern = \"^mt-\")\n",
    "wti <- subset(wti, subset = nFeature_RNA > 200 & nFeature_RNA < 2500 & percent.mt < 25)\n",
    "wti$stim <- \"WTI\"\n",
    "#wti <- SCTransform(wti, vars.to.regress = \"percent.mt\", verbose = TRUE)\n",
    "\n",
    "# Set up second object\n",
    "wtc <- CreateSeuratObject(counts = wtc.data, project = \"WILD_TYPE\", min.cells = 3)\n",
    "wtc[[\"percent.mt\"]] <- PercentageFeatureSet(wtc, pattern = \"^mt-\")\n",
    "wtc <- subset(wtc, subset = nFeature_RNA > 200 & nFeature_RNA < 2500 & percent.mt < 25)\n",
    "wtc$stim <- \"WTC\"\n",
    "#wtc <- SCTransform(wtc, vars.to.regress = \"percent.mt\", verbose = TRUE)\n",
    "\n",
    "# Set up third object\n",
    "c3koi <- CreateSeuratObject(counts = c3koi.data, project = \"GEMM\", min.cells = 3)\n",
    "c3koi[[\"percent.mt\"]] <- PercentageFeatureSet(c3koi, pattern = \"^mt-\")\n",
    "c3koi <- subset(c3koi, subset = nFeature_RNA > 200 & nFeature_RNA < 2500 & percent.mt < 25)\n",
    "c3koi$stim <- \"C3KOI\"\n",
    "#c3koi <- SCTransform(c3koi, vars.to.regress = \"percent.mt\", verbose = TRUE)\n",
    "\n",
    "# Set up fourth object\n",
    "c3koc <- CreateSeuratObject(counts = c3koc.data, project = \"GEMM\", min.cells = 3)\n",
    "c3koc[[\"percent.mt\"]] <- PercentageFeatureSet(c3koc, pattern = \"^mt-\")\n",
    "c3koc <- subset(c3koc, subset = nFeature_RNA > 200 & nFeature_RNA < 2500 & percent.mt < 25)\n",
    "c3koc$stim <- \"C3KOC\"\n",
    "#c3koc <- SCTransform(c3koc, vars.to.regress = \"percent.mt\", verbose = TRUE)\n"
   ]
  },
  {
   "cell_type": "markdown",
   "metadata": {},
   "source": [
    "## Integrative preprocessing across multiple groups"
   ]
  },
  {
   "cell_type": "code",
   "execution_count": null,
   "metadata": {},
   "outputs": [],
   "source": [
    "#Integrate objects\n",
    "anchor.set <- FindIntegrationAnchors(object.list = list(wti, wtc, c3koi, c3koc), dims = 1:20)\n",
    "immune.combined <- IntegrateData(anchorset = anchor.set, dims = 1:20)\n",
    "DefaultAssay(immune.combined) <- \"integrated\"\n",
    "immune.combined <- SCTransform(immune.combined, vars.to.regress = \"percent.mt\", verbose = TRUE)\n",
    "immune.combined <- RunPCA(immune.combined, npcs = 30, verbose = TRUE)"
   ]
  },
  {
   "cell_type": "code",
   "execution_count": null,
   "metadata": {},
   "outputs": [],
   "source": [
    "#Determine appropriate number of PCA\n",
    "print(immune.combined[[\"pca\"]], dims = 1:16, nfeatures = 16)\n",
    "ElbowPlot(immune.combined)"
   ]
  },
  {
   "cell_type": "markdown",
   "metadata": {},
   "source": [
    "# Dimensionality reduction and clustering"
   ]
  },
  {
   "cell_type": "markdown",
   "metadata": {},
   "source": [
    "## unsupervised clustering"
   ]
  },
  {
   "cell_type": "code",
   "execution_count": null,
   "metadata": {},
   "outputs": [],
   "source": [
    "# Dimensionality reduction and Clustering\n",
    "immune.combined <- RunUMAP(immune.combined, reduction = \"pca\", dims = 1:16)\n",
    "immune.combined <- FindNeighbors(immune.combined, reduction = \"pca\", dims = 1:16)\n",
    "\n",
    "#Change resolution to modify number or clusters\n",
    "immune.combined <- FindClusters(immune.combined, resolution = 0.6)"
   ]
  },
  {
   "cell_type": "markdown",
   "metadata": {},
   "source": [
    "## Algorithmic cell type definition"
   ]
  },
  {
   "cell_type": "code",
   "execution_count": null,
   "metadata": {},
   "outputs": [],
   "source": [
    "library(SingleR)\n",
    "immgen <- ImmGenData()\n",
    "\n",
    "SingleR_Annotation <- function(seu, reference=\"HPCA\", use_local=T){\n",
    "    if (use_local==F){\n",
    "        if       (reference==\"HPCA\"){\n",
    "            ref <- HumanPrimaryCellAtlasData()   \n",
    "        }else if (reference==\"BED\"){\n",
    "            ref <- BlueprintEncodeData()\n",
    "        }else if (reference==\"DbImmExp\"){\n",
    "            ref <- DatabaseImmuneCellExpressionData()\n",
    "        }else if (reference==\"Hemato\"){\n",
    "            ref <- NovershternHematopoieticData()\n",
    "        }else if (reference==\"Monaco\"){\n",
    "            ref <- MonacoImmuneData()\n",
    "        }else if (reference==\"ImmGen\"){\n",
    "            ref <- ImmGenData()\n",
    "        }else if (reference==\"MouseRNA\"){\n",
    "            ref <- MouseRNAseqData()\n",
    "        }else{\n",
    "            ref <- HumanPrimaryCellAtlasData()   \n",
    "        }\n",
    "    }else{\n",
    "        if       (reference==\"HPCA\"){\n",
    "            ref <- hpca\n",
    "        }else if (reference==\"BED\"){\n",
    "            ref <- blueprint\n",
    "        }else if (reference==\"DbImmExp\"){\n",
    "            ref <- dbimmexp\n",
    "        }else if (reference==\"Hemato\"){\n",
    "            ref <- hemato\n",
    "        }else if (reference==\"Monaco\"){\n",
    "            ref <- monaco\n",
    "        }else if (reference==\"ImmGen\"){\n",
    "            ref <- immgen\n",
    "        }else if (reference==\"MouseRNA\"){\n",
    "            ref <- mmrna\n",
    "        }else{\n",
    "            ref <- hpca\n",
    "        }\n",
    "    }\n",
    "    \n",
    "        \n",
    "    mat       <- GetAssayData(seu, slot=\"data\")\n",
    "    pred.fine <- SingleR(test = mat, ref = ref, labels = ref$label.fine)\n",
    "    pred.main <- SingleR(test = mat, ref = ref, labels = ref$label.main)\n",
    "       \n",
    "    seu[[paste0(reference,\"_main\")]]<-pred.main$pruned.labels\n",
    "    seu[[paste0(reference,\"_fine\")]]<-pred.fine$pruned.labels\n",
    "    return(seu) \n",
    "}"
   ]
  },
  {
   "cell_type": "code",
   "execution_count": null,
   "metadata": {},
   "outputs": [],
   "source": [
    "tic()\n",
    "DefaultAssay(immune.combined)<-\"RNA\"\n",
    "immune.combined<-SingleR_Annotation(seu=immune.combined, reference=\"ImmGen\", use_local=T)\n",
    "toc()"
   ]
  },
  {
   "cell_type": "code",
   "execution_count": null,
   "metadata": {},
   "outputs": [],
   "source": [
    "options(repr.plot.width=10, repr.plot.height=10)\n",
    "DimPlot(immune.combined, group.by=\"celltype0627\", pt.size=0.1, label=T,repel=T)"
   ]
  },
  {
   "cell_type": "markdown",
   "metadata": {},
   "source": [
    "## Adjusting the metadata"
   ]
  },
  {
   "cell_type": "code",
   "execution_count": null,
   "metadata": {},
   "outputs": [],
   "source": []
  },
  {
   "cell_type": "code",
   "execution_count": null,
   "metadata": {},
   "outputs": [],
   "source": [
    "# adjust the stim group information, make it brief\n",
    "metadata=immune.combined@meta.data\n",
    "row.select=metadata$stim==\"C3KOC\"\n",
    "metadata[row.select, \"stim\"]=\"KOC\"\n",
    "row.select=metadata$stim==\"C3KOI\"\n",
    "metadata[row.select, \"stim\"]=\"KOI\"\n",
    "immune.combined@meta.data=metadata\n",
    "\n",
    "# Rename cluster id\n",
    "Idents(immune.combined)<-\"SCT_snn_res.0.6\"\n",
    "new.cluster.ids <- c(\n",
    "  \"0.IgD+ mature B\", \n",
    "  \"1.IgM+IgD+ mature B\", \n",
    "  \"2.CD4+CTLA4+ T\", \n",
    "  \"3.CD4+ Teff\", \n",
    "  \"4.Myeloid/monocytic cells\", \n",
    "  \"5.Myeloid phagocytes\", \n",
    "  \"6.IgA+ Plasma B\", \n",
    "  \"7.Gata3+ ILC2,ILC3\", \n",
    "  \"8.RORga+ ILC2,ILC3\",\n",
    "  \"9.Foxp3+ Treg\", \n",
    "  \"10.CD8+ T, NKT\", \n",
    "  \"11.IgD+ mature B\", \n",
    "  \"12.Neu\",\n",
    "  \"13.proliferare B\", \n",
    "  \"14.B plasmablast\",\n",
    "  \"15.CX3CR1+ Mac\", \n",
    "  \"16.Epithelial\", \n",
    "  \"17.Endothelial\", \n",
    "  \"18.Fibroblasts\")\n",
    "names(new.cluster.ids) <- levels(immune.combined)\n",
    "immune.combined <- RenameIdents(immune.combined, new.cluster.ids)\n",
    "immune.combined[[\"celltype0627\"]]<-Idents(immune.combined)\n",
    "\n",
    "# merge the cell type annotation with the stim annotation\n",
    "immune.combined[[\"celltype0627_stim\"]]<- paste(Idents(immune.combined), immune.combined$stim, sep = \"_\")"
   ]
  },
  {
   "cell_type": "code",
   "execution_count": null,
   "metadata": {},
   "outputs": [],
   "source": [
    "#Save Clusters for easy retrieval\n",
    "saveRDS(immune.combined, file = \"/Users/yzhou14/Data_local/20200625_scRNAseq_analysis/Colon_0.6_0627.RDS\")"
   ]
  },
  {
   "cell_type": "code",
   "execution_count": null,
   "metadata": {},
   "outputs": [],
   "source": [
    "#Read it again elsewheres\n",
    "immune.combined<-readRDS(file =\"/Users/yzhou14/Data_local/20200303_scRNAseq_analysis/Colon_0.6_0627.RDS\")"
   ]
  },
  {
   "cell_type": "code",
   "execution_count": null,
   "metadata": {},
   "outputs": [],
   "source": []
  }
 ],
 "metadata": {
  "kernelspec": {
   "display_name": "R",
   "language": "R",
   "name": "ir"
  },
  "language_info": {
   "codemirror_mode": "r",
   "file_extension": ".r",
   "mimetype": "text/x-r-source",
   "name": "R",
   "pygments_lexer": "r",
   "version": "4.0.0"
  },
  "toc": {
   "base_numbering": 1,
   "nav_menu": {},
   "number_sections": true,
   "sideBar": true,
   "skip_h1_title": false,
   "title_cell": "Table of Contents",
   "title_sidebar": "Contents",
   "toc_cell": false,
   "toc_position": {},
   "toc_section_display": true,
   "toc_window_display": true
  }
 },
 "nbformat": 4,
 "nbformat_minor": 4
}
